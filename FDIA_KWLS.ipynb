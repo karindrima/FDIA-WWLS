{
  "nbformat": 4,
  "nbformat_minor": 0,
  "metadata": {
    "colab": {
      "provenance": [],
      "authorship_tag": "ABX9TyPaZ35MzYdEP8OuOHMCE5ZZ",
      "include_colab_link": true
    },
    "kernelspec": {
      "name": "python3",
      "display_name": "Python 3"
    },
    "language_info": {
      "name": "python"
    }
  },
  "cells": [
    {
      "cell_type": "markdown",
      "metadata": {
        "id": "view-in-github",
        "colab_type": "text"
      },
      "source": [
        "<a href=\"https://colab.research.google.com/github/karindrima/FDIA-WWLS/blob/main/FDIA_KWLS.ipynb\" target=\"_parent\"><img src=\"https://colab.research.google.com/assets/colab-badge.svg\" alt=\"Open In Colab\"/></a>"
      ]
    },
    {
      "cell_type": "code",
      "execution_count": null,
      "metadata": {
        "colab": {
          "base_uri": "https://localhost:8080/"
        },
        "id": "gA_rZF8JzkrW",
        "outputId": "47289ce6-4b93-44c9-b719-e68d4a91a228"
      },
      "outputs": [
        {
          "output_type": "stream",
          "name": "stdout",
          "text": [
            "Looking in indexes: https://pypi.org/simple, https://us-python.pkg.dev/colab-wheels/public/simple/\n",
            "Requirement already satisfied: numpy in /usr/local/lib/python3.7/dist-packages (1.21.6)\n",
            "Looking in indexes: https://pypi.org/simple, https://us-python.pkg.dev/colab-wheels/public/simple/\n",
            "Requirement already satisfied: pandas in /usr/local/lib/python3.7/dist-packages (1.3.5)\n",
            "Requirement already satisfied: numpy>=1.17.3 in /usr/local/lib/python3.7/dist-packages (from pandas) (1.21.6)\n",
            "Requirement already satisfied: python-dateutil>=2.7.3 in /usr/local/lib/python3.7/dist-packages (from pandas) (2.8.2)\n",
            "Requirement already satisfied: pytz>=2017.3 in /usr/local/lib/python3.7/dist-packages (from pandas) (2022.2.1)\n",
            "Requirement already satisfied: six>=1.5 in /usr/local/lib/python3.7/dist-packages (from python-dateutil>=2.7.3->pandas) (1.15.0)\n"
          ]
        }
      ],
      "source": [
        "!pip install numpy\n",
        "!pip install pandas\n",
        "import numpy as np\n",
        "import pandas as pd\n"
      ]
    },
    {
      "cell_type": "code",
      "source": [
        "from google.colab import drive\n",
        "drive.mount('/content/drive')"
      ],
      "metadata": {
        "colab": {
          "base_uri": "https://localhost:8080/"
        },
        "id": "KKYDT77K1Hwm",
        "outputId": "f1686140-1dc8-4fff-9625-6cdd0df98617"
      },
      "execution_count": 8,
      "outputs": [
        {
          "output_type": "stream",
          "name": "stdout",
          "text": [
            "Mounted at /content/drive\n"
          ]
        }
      ]
    },
    {
      "cell_type": "code",
      "source": [
        "#%cd /content/drive/MyDrive/IEEE14.csv\n",
        "df = pd.read_csv('/content/drive/MyDrive/IEEE14.csv')"
      ],
      "metadata": {
        "id": "c_fNzTrO3Aj2"
      },
      "execution_count": 18,
      "outputs": []
    },
    {
      "cell_type": "code",
      "source": [
        "df.head()"
      ],
      "metadata": {
        "colab": {
          "base_uri": "https://localhost:8080/",
          "height": 206
        },
        "id": "emDUbzjW35Gr",
        "outputId": "be31a47c-4c96-4c73-efa6-95e8b45f8bde"
      },
      "execution_count": 19,
      "outputs": [
        {
          "output_type": "execute_result",
          "data": {
            "text/plain": [
              "  Date (month/day/year)     Time          1          2         3         4  \\\n",
              "0              7/1/2012  0:00:00   3.570531  53.091532  5.046160  0.645409   \n",
              "1              7/1/2012  0:30:00  10.360724  49.463833  4.954028  0.664805   \n",
              "2              7/1/2012  1:00:00   9.765395  47.802958  4.954028  0.645409   \n",
              "3              7/1/2012  1:30:00   8.195110  66.684480  4.923317  0.658986   \n",
              "4              7/1/2012  2:00:00   7.677433   9.908792  4.954028  0.600798   \n",
              "\n",
              "          5         6         7         8         9        10        11  \n",
              "0  3.983360  2.621302  1.059980  0.407315  1.909899  1.487827  1.938000  \n",
              "1  2.864563  2.404328  1.124190  0.421628  0.461906  1.406553  1.946107  \n",
              "2  2.843734  2.529945  1.053806  0.418325  0.495827  1.334841  1.954215  \n",
              "3  2.626521  2.141674  0.980952  0.406214  0.438585  1.444799  1.832604  \n",
              "4  2.745542  2.427167  1.055040  0.419426  0.514907  1.277471  1.873141  "
            ],
            "text/html": [
              "\n",
              "  <div id=\"df-8e566568-5da7-45a0-a5b4-87d746724446\">\n",
              "    <div class=\"colab-df-container\">\n",
              "      <div>\n",
              "<style scoped>\n",
              "    .dataframe tbody tr th:only-of-type {\n",
              "        vertical-align: middle;\n",
              "    }\n",
              "\n",
              "    .dataframe tbody tr th {\n",
              "        vertical-align: top;\n",
              "    }\n",
              "\n",
              "    .dataframe thead th {\n",
              "        text-align: right;\n",
              "    }\n",
              "</style>\n",
              "<table border=\"1\" class=\"dataframe\">\n",
              "  <thead>\n",
              "    <tr style=\"text-align: right;\">\n",
              "      <th></th>\n",
              "      <th>Date (month/day/year)</th>\n",
              "      <th>Time</th>\n",
              "      <th>1</th>\n",
              "      <th>2</th>\n",
              "      <th>3</th>\n",
              "      <th>4</th>\n",
              "      <th>5</th>\n",
              "      <th>6</th>\n",
              "      <th>7</th>\n",
              "      <th>8</th>\n",
              "      <th>9</th>\n",
              "      <th>10</th>\n",
              "      <th>11</th>\n",
              "    </tr>\n",
              "  </thead>\n",
              "  <tbody>\n",
              "    <tr>\n",
              "      <th>0</th>\n",
              "      <td>7/1/2012</td>\n",
              "      <td>0:00:00</td>\n",
              "      <td>3.570531</td>\n",
              "      <td>53.091532</td>\n",
              "      <td>5.046160</td>\n",
              "      <td>0.645409</td>\n",
              "      <td>3.983360</td>\n",
              "      <td>2.621302</td>\n",
              "      <td>1.059980</td>\n",
              "      <td>0.407315</td>\n",
              "      <td>1.909899</td>\n",
              "      <td>1.487827</td>\n",
              "      <td>1.938000</td>\n",
              "    </tr>\n",
              "    <tr>\n",
              "      <th>1</th>\n",
              "      <td>7/1/2012</td>\n",
              "      <td>0:30:00</td>\n",
              "      <td>10.360724</td>\n",
              "      <td>49.463833</td>\n",
              "      <td>4.954028</td>\n",
              "      <td>0.664805</td>\n",
              "      <td>2.864563</td>\n",
              "      <td>2.404328</td>\n",
              "      <td>1.124190</td>\n",
              "      <td>0.421628</td>\n",
              "      <td>0.461906</td>\n",
              "      <td>1.406553</td>\n",
              "      <td>1.946107</td>\n",
              "    </tr>\n",
              "    <tr>\n",
              "      <th>2</th>\n",
              "      <td>7/1/2012</td>\n",
              "      <td>1:00:00</td>\n",
              "      <td>9.765395</td>\n",
              "      <td>47.802958</td>\n",
              "      <td>4.954028</td>\n",
              "      <td>0.645409</td>\n",
              "      <td>2.843734</td>\n",
              "      <td>2.529945</td>\n",
              "      <td>1.053806</td>\n",
              "      <td>0.418325</td>\n",
              "      <td>0.495827</td>\n",
              "      <td>1.334841</td>\n",
              "      <td>1.954215</td>\n",
              "    </tr>\n",
              "    <tr>\n",
              "      <th>3</th>\n",
              "      <td>7/1/2012</td>\n",
              "      <td>1:30:00</td>\n",
              "      <td>8.195110</td>\n",
              "      <td>66.684480</td>\n",
              "      <td>4.923317</td>\n",
              "      <td>0.658986</td>\n",
              "      <td>2.626521</td>\n",
              "      <td>2.141674</td>\n",
              "      <td>0.980952</td>\n",
              "      <td>0.406214</td>\n",
              "      <td>0.438585</td>\n",
              "      <td>1.444799</td>\n",
              "      <td>1.832604</td>\n",
              "    </tr>\n",
              "    <tr>\n",
              "      <th>4</th>\n",
              "      <td>7/1/2012</td>\n",
              "      <td>2:00:00</td>\n",
              "      <td>7.677433</td>\n",
              "      <td>9.908792</td>\n",
              "      <td>4.954028</td>\n",
              "      <td>0.600798</td>\n",
              "      <td>2.745542</td>\n",
              "      <td>2.427167</td>\n",
              "      <td>1.055040</td>\n",
              "      <td>0.419426</td>\n",
              "      <td>0.514907</td>\n",
              "      <td>1.277471</td>\n",
              "      <td>1.873141</td>\n",
              "    </tr>\n",
              "  </tbody>\n",
              "</table>\n",
              "</div>\n",
              "      <button class=\"colab-df-convert\" onclick=\"convertToInteractive('df-8e566568-5da7-45a0-a5b4-87d746724446')\"\n",
              "              title=\"Convert this dataframe to an interactive table.\"\n",
              "              style=\"display:none;\">\n",
              "        \n",
              "  <svg xmlns=\"http://www.w3.org/2000/svg\" height=\"24px\"viewBox=\"0 0 24 24\"\n",
              "       width=\"24px\">\n",
              "    <path d=\"M0 0h24v24H0V0z\" fill=\"none\"/>\n",
              "    <path d=\"M18.56 5.44l.94 2.06.94-2.06 2.06-.94-2.06-.94-.94-2.06-.94 2.06-2.06.94zm-11 1L8.5 8.5l.94-2.06 2.06-.94-2.06-.94L8.5 2.5l-.94 2.06-2.06.94zm10 10l.94 2.06.94-2.06 2.06-.94-2.06-.94-.94-2.06-.94 2.06-2.06.94z\"/><path d=\"M17.41 7.96l-1.37-1.37c-.4-.4-.92-.59-1.43-.59-.52 0-1.04.2-1.43.59L10.3 9.45l-7.72 7.72c-.78.78-.78 2.05 0 2.83L4 21.41c.39.39.9.59 1.41.59.51 0 1.02-.2 1.41-.59l7.78-7.78 2.81-2.81c.8-.78.8-2.07 0-2.86zM5.41 20L4 18.59l7.72-7.72 1.47 1.35L5.41 20z\"/>\n",
              "  </svg>\n",
              "      </button>\n",
              "      \n",
              "  <style>\n",
              "    .colab-df-container {\n",
              "      display:flex;\n",
              "      flex-wrap:wrap;\n",
              "      gap: 12px;\n",
              "    }\n",
              "\n",
              "    .colab-df-convert {\n",
              "      background-color: #E8F0FE;\n",
              "      border: none;\n",
              "      border-radius: 50%;\n",
              "      cursor: pointer;\n",
              "      display: none;\n",
              "      fill: #1967D2;\n",
              "      height: 32px;\n",
              "      padding: 0 0 0 0;\n",
              "      width: 32px;\n",
              "    }\n",
              "\n",
              "    .colab-df-convert:hover {\n",
              "      background-color: #E2EBFA;\n",
              "      box-shadow: 0px 1px 2px rgba(60, 64, 67, 0.3), 0px 1px 3px 1px rgba(60, 64, 67, 0.15);\n",
              "      fill: #174EA6;\n",
              "    }\n",
              "\n",
              "    [theme=dark] .colab-df-convert {\n",
              "      background-color: #3B4455;\n",
              "      fill: #D2E3FC;\n",
              "    }\n",
              "\n",
              "    [theme=dark] .colab-df-convert:hover {\n",
              "      background-color: #434B5C;\n",
              "      box-shadow: 0px 1px 3px 1px rgba(0, 0, 0, 0.15);\n",
              "      filter: drop-shadow(0px 1px 2px rgba(0, 0, 0, 0.3));\n",
              "      fill: #FFFFFF;\n",
              "    }\n",
              "  </style>\n",
              "\n",
              "      <script>\n",
              "        const buttonEl =\n",
              "          document.querySelector('#df-8e566568-5da7-45a0-a5b4-87d746724446 button.colab-df-convert');\n",
              "        buttonEl.style.display =\n",
              "          google.colab.kernel.accessAllowed ? 'block' : 'none';\n",
              "\n",
              "        async function convertToInteractive(key) {\n",
              "          const element = document.querySelector('#df-8e566568-5da7-45a0-a5b4-87d746724446');\n",
              "          const dataTable =\n",
              "            await google.colab.kernel.invokeFunction('convertToInteractive',\n",
              "                                                     [key], {});\n",
              "          if (!dataTable) return;\n",
              "\n",
              "          const docLinkHtml = 'Like what you see? Visit the ' +\n",
              "            '<a target=\"_blank\" href=https://colab.research.google.com/notebooks/data_table.ipynb>data table notebook</a>'\n",
              "            + ' to learn more about interactive tables.';\n",
              "          element.innerHTML = '';\n",
              "          dataTable['output_type'] = 'display_data';\n",
              "          await google.colab.output.renderOutput(dataTable, element);\n",
              "          const docLink = document.createElement('div');\n",
              "          docLink.innerHTML = docLinkHtml;\n",
              "          element.appendChild(docLink);\n",
              "        }\n",
              "      </script>\n",
              "    </div>\n",
              "  </div>\n",
              "  "
            ]
          },
          "metadata": {},
          "execution_count": 19
        }
      ]
    },
    {
      "cell_type": "code",
      "source": [
        "df.info()"
      ],
      "metadata": {
        "colab": {
          "base_uri": "https://localhost:8080/"
        },
        "id": "7SOAhYCJ52DF",
        "outputId": "0ba961f8-a32d-4cee-e2e5-c3d06395543a"
      },
      "execution_count": 21,
      "outputs": [
        {
          "output_type": "stream",
          "name": "stdout",
          "text": [
            "<class 'pandas.core.frame.DataFrame'>\n",
            "RangeIndex: 17520 entries, 0 to 17519\n",
            "Data columns (total 13 columns):\n",
            " #   Column                 Non-Null Count  Dtype  \n",
            "---  ------                 --------------  -----  \n",
            " 0   Date (month/day/year)  17520 non-null  object \n",
            " 1   Time                   17520 non-null  object \n",
            " 2   1                      17520 non-null  float64\n",
            " 3   2                      17520 non-null  float64\n",
            " 4   3                      17520 non-null  float64\n",
            " 5   4                      17520 non-null  float64\n",
            " 6   5                      17520 non-null  float64\n",
            " 7   6                      17520 non-null  float64\n",
            " 8   7                      17520 non-null  float64\n",
            " 9   8                      17520 non-null  float64\n",
            " 10  9                      17520 non-null  float64\n",
            " 11  10                     17520 non-null  float64\n",
            " 12  11                     17520 non-null  float64\n",
            "dtypes: float64(11), object(2)\n",
            "memory usage: 1.7+ MB\n"
          ]
        }
      ]
    },
    {
      "cell_type": "code",
      "source": [
        "training_set = df.iloc[:,2:].values\n",
        "training_set.shape, training_set"
      ],
      "metadata": {
        "colab": {
          "base_uri": "https://localhost:8080/"
        },
        "id": "Ldb1LcPY53qD",
        "outputId": "bdeb24a2-2f35-4673-9320-d8bd6f99cf0a"
      },
      "execution_count": 23,
      "outputs": [
        {
          "output_type": "execute_result",
          "data": {
            "text/plain": [
              "((17520, 11), array([[ 3.57053113, 53.0915323 ,  5.04615982, ...,  1.90989936,\n",
              "          1.48782665,  1.93799991],\n",
              "        [10.36072363, 49.4638325 ,  4.95402757, ...,  0.46190573,\n",
              "          1.40655295,  1.94610728],\n",
              "        [ 9.76539545, 47.80295789,  4.95402757, ...,  0.49582652,\n",
              "          1.33484086,  1.95421465],\n",
              "        ...,\n",
              "        [ 7.47503562, 10.66456328,  4.48440905, ...,  0.64891174,\n",
              "          6.11843561,  2.33222091],\n",
              "        [ 4.51565058, 11.05792831,  4.53047517, ...,  0.71039317,\n",
              "          6.9072686 ,  2.3970799 ],\n",
              "        [10.51207216, 10.97051386,  4.10052469, ...,  0.64467164,\n",
              "          5.17183604,  2.07278498]]))"
            ]
          },
          "metadata": {},
          "execution_count": 23
        }
      ]
    },
    {
      "cell_type": "code",
      "source": [
        "#weighted least square\n",
        "!pip install torch\n",
        "from torch import nn\n",
        "import torch"
      ],
      "metadata": {
        "colab": {
          "base_uri": "https://localhost:8080/"
        },
        "id": "RPidWvlX71U0",
        "outputId": "292d649b-71e4-4e7a-9e93-da94e77e76f4"
      },
      "execution_count": 26,
      "outputs": [
        {
          "output_type": "stream",
          "name": "stdout",
          "text": [
            "Looking in indexes: https://pypi.org/simple, https://us-python.pkg.dev/colab-wheels/public/simple/\n",
            "Requirement already satisfied: torch in /usr/local/lib/python3.7/dist-packages (1.12.1+cu113)\n",
            "Requirement already satisfied: typing-extensions in /usr/local/lib/python3.7/dist-packages (from torch) (4.1.1)\n"
          ]
        }
      ]
    },
    {
      "cell_type": "code",
      "source": [
        "train = torch.tensor(training_set)\n",
        "train.to(torch.double)\n",
        "print(train.size(), train.dtype, train)"
      ],
      "metadata": {
        "colab": {
          "base_uri": "https://localhost:8080/"
        },
        "id": "PkEAgNvS_4Jx",
        "outputId": "a77db378-d1b2-4b4c-f2ab-97900c5d2337"
      },
      "execution_count": 27,
      "outputs": [
        {
          "output_type": "stream",
          "name": "stdout",
          "text": [
            "torch.Size([17520, 11]) torch.float64 tensor([[ 3.5705, 53.0915,  5.0462,  ...,  1.9099,  1.4878,  1.9380],\n",
            "        [10.3607, 49.4638,  4.9540,  ...,  0.4619,  1.4066,  1.9461],\n",
            "        [ 9.7654, 47.8030,  4.9540,  ...,  0.4958,  1.3348,  1.9542],\n",
            "        ...,\n",
            "        [ 7.4750, 10.6646,  4.4844,  ...,  0.6489,  6.1184,  2.3322],\n",
            "        [ 4.5157, 11.0579,  4.5305,  ...,  0.7104,  6.9073,  2.3971],\n",
            "        [10.5121, 10.9705,  4.1005,  ...,  0.6447,  5.1718,  2.0728]],\n",
            "       dtype=torch.float64)\n"
          ]
        }
      ]
    },
    {
      "cell_type": "code",
      "source": [],
      "metadata": {
        "id": "YsgMnmcHBSeg"
      },
      "execution_count": null,
      "outputs": []
    },
    {
      "cell_type": "markdown",
      "source": [
        "# New Section"
      ],
      "metadata": {
        "id": "iDvq2kXnZe0g"
      }
    }
  ]
}